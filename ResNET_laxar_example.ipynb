{
 "cells": [
  {
   "cell_type": "markdown",
   "metadata": {},
   "source": [
    "## ResNET example from Laxar Argarwal"
   ]
  },
  {
   "cell_type": "markdown",
   "metadata": {},
   "source": [
    "This is a run through of this notebook: https://www.kaggle.com/laksh171998/birdcall-resnet-baseline. I find it's useful for me to run through an example instead of starting from scratch."
   ]
  },
  {
   "cell_type": "markdown",
   "metadata": {},
   "source": [
    "This notebook uses a ResNet based model trained with log melspectrogram. The below list briefly outlines the approach.\n",
    "- Randomly crop 5 seconds for each train audio clip each epoch.\n",
    "- No augmentation.\n",
    "- Use pretrained weight of torchvision.models.resnet50.\n",
    "- Used BCELoss.\n",
    "- Trained 100 epoch and used the weight which got best F1 (at 92epoch).\n",
    "- Adam optimizer (lr=0.001) with CosineAnnealingLR (T_max=10).\n",
    "- Use StratifiedKFold(n_splits=5) to split dataset and used only first fold\n",
    "\n",
    "Here are the original parameter details.\n",
    "- batch_size: 100 (on V100, took 2 ~ 3hrs to run 100epochs)\n",
    "- melspectrogram parameters\n",
    "    - n_mels: 128\n",
    "    - fmin: 20\n",
    "    - fmax: 16000\n",
    "- image size: 224 x 541 (I don't remember the exact width)"
   ]
  },
  {
   "cell_type": "code",
   "execution_count": null,
   "metadata": {},
   "outputs": [],
   "source": []
  }
 ],
 "metadata": {
  "kernelspec": {
   "display_name": "Python 3",
   "language": "python",
   "name": "python3"
  },
  "language_info": {
   "codemirror_mode": {
    "name": "ipython",
    "version": 3
   },
   "file_extension": ".py",
   "mimetype": "text/x-python",
   "name": "python",
   "nbconvert_exporter": "python",
   "pygments_lexer": "ipython3",
   "version": "3.7.6"
  }
 },
 "nbformat": 4,
 "nbformat_minor": 4
}
